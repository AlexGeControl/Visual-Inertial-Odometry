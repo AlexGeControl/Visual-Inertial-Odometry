{
 "cells": [
  {
   "cell_type": "code",
   "execution_count": 1,
   "metadata": {},
   "outputs": [],
   "source": [
    "from sympy import symbols"
   ]
  },
  {
   "cell_type": "markdown",
   "metadata": {},
   "source": [
    "## Define Input Parameters"
   ]
  },
  {
   "cell_type": "code",
   "execution_count": 2,
   "metadata": {},
   "outputs": [],
   "source": [
    "# define camera parameters:\n",
    "f, k1, k2 = symbols('f k1 k2')"
   ]
  },
  {
   "cell_type": "code",
   "execution_count": 3,
   "metadata": {},
   "outputs": [],
   "source": [
    "# select intermediate variables as landmark position in camera frame:\n",
    "P_X, P_Y, P_Z = symbols('P_X P_Y P_Z')"
   ]
  },
  {
   "cell_type": "markdown",
   "metadata": {},
   "source": [
    "## Point-to-Pixel Projection"
   ]
  },
  {
   "cell_type": "code",
   "execution_count": 4,
   "metadata": {},
   "outputs": [],
   "source": [
    "# perspective division:\n",
    "p_x = -P_X/P_Z\n",
    "p_y = -P_Y/P_Z"
   ]
  },
  {
   "cell_type": "code",
   "execution_count": 5,
   "metadata": {},
   "outputs": [],
   "source": [
    "# get undistortion coefficent:\n",
    "r_2 = p_x**2 + p_y**2\n",
    "\n",
    "distortion_coefficient = 1 + r_2 * (k1 + k2 * r_2)"
   ]
  },
  {
   "cell_type": "code",
   "execution_count": 6,
   "metadata": {},
   "outputs": [],
   "source": [
    "# conversion to pixel coordinates:\n",
    "p_x_prime = f * distortion_coefficient * p_x\n",
    "p_y_prime = f * distortion_coefficient * p_y"
   ]
  },
  {
   "cell_type": "code",
   "execution_count": 7,
   "metadata": {},
   "outputs": [],
   "source": [
    "# with no distortion:\n",
    "# p_x = P_X/P_Z\n",
    "# p_y = P_Y/P_Z\n",
    "\n",
    "# p_x_prime = f * p_x\n",
    "# p_y_prime = f * p_y"
   ]
  },
  {
   "cell_type": "markdown",
   "metadata": {},
   "source": [
    "## Derivative"
   ]
  },
  {
   "cell_type": "code",
   "execution_count": 8,
   "metadata": {},
   "outputs": [],
   "source": [
    "from sympy import Matrix, simplify, diff"
   ]
  },
  {
   "cell_type": "code",
   "execution_count": 9,
   "metadata": {},
   "outputs": [],
   "source": [
    "# define Jacobian with respect to intermediate variables:\n",
    "JP = Matrix(\n",
    "    [\n",
    "        [diff(p_x_prime, P_X), diff(p_x_prime, P_Y), diff(p_x_prime, P_Z)],\n",
    "        [diff(p_y_prime, P_X), diff(p_y_prime, P_Y), diff(p_y_prime, P_Z)]\n",
    "    ]\n",
    ")"
   ]
  },
  {
   "cell_type": "code",
   "execution_count": 10,
   "metadata": {},
   "outputs": [],
   "source": [
    "# jacobian with respect to camera parameters:\n",
    "JI = Matrix(\n",
    "    [\n",
    "        [diff(p_x_prime, f), diff(p_x_prime, k1), diff(p_x_prime, k2)],\n",
    "        [diff(p_y_prime, f), diff(p_y_prime, k1), diff(p_y_prime, k2)]\n",
    "    ]    \n",
    ")"
   ]
  },
  {
   "cell_type": "code",
   "execution_count": 11,
   "metadata": {},
   "outputs": [],
   "source": [
    "# Jacobian of Lie algebra:\n",
    "TP = Matrix(\n",
    "    [\n",
    "        [1, 0, 0,    0,  P_Z, -P_Y],\n",
    "        [0, 1, 0, -P_Z,    0,  P_X],\n",
    "        [0, 0, 1,  P_Y, -P_X,    0]\n",
    "    ]\n",
    ")"
   ]
  },
  {
   "cell_type": "code",
   "execution_count": 12,
   "metadata": {},
   "outputs": [],
   "source": [
    "# overall Jacobians:\n",
    "\n",
    "# a. Jacobian for landmark position:\n",
    "J_position = simplify(JP)\n",
    "# b. Jacobian for camera intrinsics:\n",
    "J_intrinsic = simplify(JI)\n",
    "# c. Jacobian for camera pose:\n",
    "J_pose = simplify(JP * TP)"
   ]
  },
  {
   "cell_type": "markdown",
   "metadata": {},
   "source": [
    "## Show Result"
   ]
  },
  {
   "cell_type": "code",
   "execution_count": 13,
   "metadata": {},
   "outputs": [],
   "source": [
    "from sympy import init_printing\n",
    "init_printing()"
   ]
  },
  {
   "cell_type": "code",
   "execution_count": 14,
   "metadata": {},
   "outputs": [
    {
     "data": {
      "text/latex": [
       "$\\displaystyle \\left[\\begin{matrix}- \\frac{f \\left(2 P_{X}^{2} \\left(P_{Z}^{2} k_{1} + 2 k_{2} \\left(P_{X}^{2} + P_{Y}^{2}\\right)\\right) + P_{Z}^{4} + \\left(P_{X}^{2} + P_{Y}^{2}\\right) \\left(P_{Z}^{2} k_{1} + k_{2} \\left(P_{X}^{2} + P_{Y}^{2}\\right)\\right)\\right)}{P_{Z}^{5}} & - \\frac{2 P_{X} P_{Y} f \\left(P_{Z}^{2} k_{1} + 2 k_{2} \\left(P_{X}^{2} + P_{Y}^{2}\\right)\\right)}{P_{Z}^{5}} & \\frac{P_{X} f \\left(P_{Z}^{4} + \\left(P_{X}^{2} + P_{Y}^{2}\\right) \\left(P_{Z}^{2} k_{1} + k_{2} \\left(P_{X}^{2} + P_{Y}^{2}\\right)\\right) + 2 \\left(P_{X}^{2} + P_{Y}^{2}\\right) \\left(P_{Z}^{2} k_{1} + 2 k_{2} \\left(P_{X}^{2} + P_{Y}^{2}\\right)\\right)\\right)}{P_{Z}^{6}}\\\\- \\frac{2 P_{X} P_{Y} f \\left(P_{Z}^{2} k_{1} + 2 k_{2} \\left(P_{X}^{2} + P_{Y}^{2}\\right)\\right)}{P_{Z}^{5}} & - \\frac{f \\left(2 P_{Y}^{2} \\left(P_{Z}^{2} k_{1} + 2 k_{2} \\left(P_{X}^{2} + P_{Y}^{2}\\right)\\right) + P_{Z}^{4} + \\left(P_{X}^{2} + P_{Y}^{2}\\right) \\left(P_{Z}^{2} k_{1} + k_{2} \\left(P_{X}^{2} + P_{Y}^{2}\\right)\\right)\\right)}{P_{Z}^{5}} & \\frac{P_{Y} f \\left(P_{Z}^{4} + \\left(P_{X}^{2} + P_{Y}^{2}\\right) \\left(P_{Z}^{2} k_{1} + k_{2} \\left(P_{X}^{2} + P_{Y}^{2}\\right)\\right) + 2 \\left(P_{X}^{2} + P_{Y}^{2}\\right) \\left(P_{Z}^{2} k_{1} + 2 k_{2} \\left(P_{X}^{2} + P_{Y}^{2}\\right)\\right)\\right)}{P_{Z}^{6}}\\end{matrix}\\right]$"
      ],
      "text/plain": [
       "⎡   ⎛     2 ⎛   2           ⎛   2      2⎞⎞      4   ⎛   2      2⎞ ⎛   2       \n",
       "⎢-f⋅⎝2⋅P_X ⋅⎝P_Z ⋅k₁ + 2⋅k₂⋅⎝P_X  + P_Y ⎠⎠ + P_Z  + ⎝P_X  + P_Y ⎠⋅⎝P_Z ⋅k₁ + k\n",
       "⎢─────────────────────────────────────────────────────────────────────────────\n",
       "⎢                                                 5                           \n",
       "⎢                                              P_Z                            \n",
       "⎢                                                                             \n",
       "⎢                                      ⎛   2           ⎛   2      2⎞⎞         \n",
       "⎢                         -2⋅P_X⋅P_Y⋅f⋅⎝P_Z ⋅k₁ + 2⋅k₂⋅⎝P_X  + P_Y ⎠⎠         \n",
       "⎢                         ────────────────────────────────────────────        \n",
       "⎢                                                5                            \n",
       "⎣                                             P_Z                             \n",
       "\n",
       "  ⎛   2      2⎞⎞⎞                                         ⎛   2           ⎛   \n",
       "₂⋅⎝P_X  + P_Y ⎠⎠⎠                            -2⋅P_X⋅P_Y⋅f⋅⎝P_Z ⋅k₁ + 2⋅k₂⋅⎝P_X\n",
       "──────────────────                           ─────────────────────────────────\n",
       "                                                                    5         \n",
       "                                                                 P_Z          \n",
       "                                                                              \n",
       "                       ⎛     2 ⎛   2           ⎛   2      2⎞⎞      4   ⎛   2  \n",
       "                    -f⋅⎝2⋅P_Y ⋅⎝P_Z ⋅k₁ + 2⋅k₂⋅⎝P_X  + P_Y ⎠⎠ + P_Z  + ⎝P_X  +\n",
       "                    ──────────────────────────────────────────────────────────\n",
       "                                                                     5        \n",
       "                                                                  P_Z         \n",
       "\n",
       "2      2⎞⎞                                   ⎛   4   ⎛   2      2⎞ ⎛   2      \n",
       "  + P_Y ⎠⎠                             P_X⋅f⋅⎝P_Z  + ⎝P_X  + P_Y ⎠⋅⎝P_Z ⋅k₁ + \n",
       "───────────                            ───────────────────────────────────────\n",
       "                                                                              \n",
       "                                                                              \n",
       "                                                                              \n",
       "    2⎞ ⎛   2         ⎛   2      2⎞⎞⎞         ⎛   4   ⎛   2      2⎞ ⎛   2      \n",
       " P_Y ⎠⋅⎝P_Z ⋅k₁ + k₂⋅⎝P_X  + P_Y ⎠⎠⎠   P_Y⋅f⋅⎝P_Z  + ⎝P_X  + P_Y ⎠⋅⎝P_Z ⋅k₁ + \n",
       "─────────────────────────────────────  ───────────────────────────────────────\n",
       "                                                                              \n",
       "                                                                              \n",
       "\n",
       "   ⎛   2      2⎞⎞     ⎛   2      2⎞ ⎛   2           ⎛   2      2⎞⎞⎞⎤\n",
       "k₂⋅⎝P_X  + P_Y ⎠⎠ + 2⋅⎝P_X  + P_Y ⎠⋅⎝P_Z ⋅k₁ + 2⋅k₂⋅⎝P_X  + P_Y ⎠⎠⎠⎥\n",
       "───────────────────────────────────────────────────────────────────⎥\n",
       "               6                                                   ⎥\n",
       "            P_Z                                                    ⎥\n",
       "                                                                   ⎥\n",
       "   ⎛   2      2⎞⎞     ⎛   2      2⎞ ⎛   2           ⎛   2      2⎞⎞⎞⎥\n",
       "k₂⋅⎝P_X  + P_Y ⎠⎠ + 2⋅⎝P_X  + P_Y ⎠⋅⎝P_Z ⋅k₁ + 2⋅k₂⋅⎝P_X  + P_Y ⎠⎠⎠⎥\n",
       "───────────────────────────────────────────────────────────────────⎥\n",
       "               6                                                   ⎥\n",
       "            P_Z                                                    ⎦"
      ]
     },
     "execution_count": 14,
     "metadata": {},
     "output_type": "execute_result"
    }
   ],
   "source": [
    "# display Jacobian for camera pose:\n",
    "J_position"
   ]
  },
  {
   "cell_type": "code",
   "execution_count": 15,
   "metadata": {},
   "outputs": [
    {
     "data": {
      "text/latex": [
       "$\\displaystyle \\left[\\begin{matrix}- \\frac{P_{X} \\left(P_{Z}^{4} + \\left(P_{X}^{2} + P_{Y}^{2}\\right) \\left(P_{Z}^{2} k_{1} + k_{2} \\left(P_{X}^{2} + P_{Y}^{2}\\right)\\right)\\right)}{P_{Z}^{5}} & - \\frac{P_{X} f \\left(P_{X}^{2} + P_{Y}^{2}\\right)}{P_{Z}^{3}} & - \\frac{P_{X} f \\left(P_{X}^{2} + P_{Y}^{2}\\right)^{2}}{P_{Z}^{5}}\\\\- \\frac{P_{Y} \\left(P_{Z}^{4} + \\left(P_{X}^{2} + P_{Y}^{2}\\right) \\left(P_{Z}^{2} k_{1} + k_{2} \\left(P_{X}^{2} + P_{Y}^{2}\\right)\\right)\\right)}{P_{Z}^{5}} & - \\frac{P_{Y} f \\left(P_{X}^{2} + P_{Y}^{2}\\right)}{P_{Z}^{3}} & - \\frac{P_{Y} f \\left(P_{X}^{2} + P_{Y}^{2}\\right)^{2}}{P_{Z}^{5}}\\end{matrix}\\right]$"
      ],
      "text/plain": [
       "⎡                                                                             \n",
       "⎢     ⎛   4   ⎛   2      2⎞ ⎛   2         ⎛   2      2⎞⎞⎞          ⎛   2      \n",
       "⎢-P_X⋅⎝P_Z  + ⎝P_X  + P_Y ⎠⋅⎝P_Z ⋅k₁ + k₂⋅⎝P_X  + P_Y ⎠⎠⎠   -P_X⋅f⋅⎝P_X  + P_Y\n",
       "⎢─────────────────────────────────────────────────────────  ──────────────────\n",
       "⎢                              5                                        3     \n",
       "⎢                           P_Z                                      P_Z      \n",
       "⎢                                                                             \n",
       "⎢                                                                             \n",
       "⎢     ⎛   4   ⎛   2      2⎞ ⎛   2         ⎛   2      2⎞⎞⎞          ⎛   2      \n",
       "⎢-P_Y⋅⎝P_Z  + ⎝P_X  + P_Y ⎠⋅⎝P_Z ⋅k₁ + k₂⋅⎝P_X  + P_Y ⎠⎠⎠   -P_Y⋅f⋅⎝P_X  + P_Y\n",
       "⎢─────────────────────────────────────────────────────────  ──────────────────\n",
       "⎢                              5                                        3     \n",
       "⎣                           P_Z                                      P_Z      \n",
       "\n",
       "                         2 ⎤\n",
       "2⎞          ⎛   2      2⎞  ⎥\n",
       " ⎠   -P_X⋅f⋅⎝P_X  + P_Y ⎠  ⎥\n",
       "───  ──────────────────────⎥\n",
       "                 5         ⎥\n",
       "              P_Z          ⎥\n",
       "                           ⎥\n",
       "                         2 ⎥\n",
       "2⎞          ⎛   2      2⎞  ⎥\n",
       " ⎠   -P_Y⋅f⋅⎝P_X  + P_Y ⎠  ⎥\n",
       "───  ──────────────────────⎥\n",
       "                 5         ⎥\n",
       "              P_Z          ⎦"
      ]
     },
     "execution_count": 15,
     "metadata": {},
     "output_type": "execute_result"
    }
   ],
   "source": [
    "# display Jacobian for camera intrinsics:\n",
    "J_intrinsic"
   ]
  },
  {
   "cell_type": "code",
   "execution_count": 16,
   "metadata": {},
   "outputs": [
    {
     "data": {
      "text/latex": [
       "$\\displaystyle \\left[\\begin{matrix}- \\frac{f \\left(2 P_{X}^{2} \\left(P_{Z}^{2} k_{1} + 2 k_{2} \\left(P_{X}^{2} + P_{Y}^{2}\\right)\\right) + P_{Z}^{4} + \\left(P_{X}^{2} + P_{Y}^{2}\\right) \\left(P_{Z}^{2} k_{1} + k_{2} \\left(P_{X}^{2} + P_{Y}^{2}\\right)\\right)\\right)}{P_{Z}^{5}} & - \\frac{2 P_{X} P_{Y} f \\left(P_{Z}^{2} k_{1} + 2 k_{2} \\left(P_{X}^{2} + P_{Y}^{2}\\right)\\right)}{P_{Z}^{5}} & \\frac{P_{X} f \\left(P_{Z}^{4} + \\left(P_{X}^{2} + P_{Y}^{2}\\right) \\left(P_{Z}^{2} k_{1} + k_{2} \\left(P_{X}^{2} + P_{Y}^{2}\\right)\\right) + 2 \\left(P_{X}^{2} + P_{Y}^{2}\\right) \\left(P_{Z}^{2} k_{1} + 2 k_{2} \\left(P_{X}^{2} + P_{Y}^{2}\\right)\\right)\\right)}{P_{Z}^{6}} & \\frac{P_{X} P_{Y} f \\left(P_{Z}^{4} + 2 P_{Z}^{2} \\left(P_{Z}^{2} k_{1} + 2 k_{2} \\left(P_{X}^{2} + P_{Y}^{2}\\right)\\right) + \\left(P_{X}^{2} + P_{Y}^{2}\\right) \\left(P_{Z}^{2} k_{1} + k_{2} \\left(P_{X}^{2} + P_{Y}^{2}\\right)\\right) + 2 \\left(P_{X}^{2} + P_{Y}^{2}\\right) \\left(P_{Z}^{2} k_{1} + 2 k_{2} \\left(P_{X}^{2} + P_{Y}^{2}\\right)\\right)\\right)}{P_{Z}^{6}} & - \\frac{f \\left(P_{X}^{2} \\left(P_{Z}^{4} + \\left(P_{X}^{2} + P_{Y}^{2}\\right) \\left(P_{Z}^{2} k_{1} + k_{2} \\left(P_{X}^{2} + P_{Y}^{2}\\right)\\right) + 2 \\left(P_{X}^{2} + P_{Y}^{2}\\right) \\left(P_{Z}^{2} k_{1} + 2 k_{2} \\left(P_{X}^{2} + P_{Y}^{2}\\right)\\right)\\right) + P_{Z}^{2} \\left(2 P_{X}^{2} \\left(P_{Z}^{2} k_{1} + 2 k_{2} \\left(P_{X}^{2} + P_{Y}^{2}\\right)\\right) + P_{Z}^{4} + \\left(P_{X}^{2} + P_{Y}^{2}\\right) \\left(P_{Z}^{2} k_{1} + k_{2} \\left(P_{X}^{2} + P_{Y}^{2}\\right)\\right)\\right)\\right)}{P_{Z}^{6}} & \\frac{P_{Y} f \\left(P_{Z}^{4} + \\left(P_{X}^{2} + P_{Y}^{2}\\right) \\left(P_{Z}^{2} k_{1} + k_{2} \\left(P_{X}^{2} + P_{Y}^{2}\\right)\\right)\\right)}{P_{Z}^{5}}\\\\- \\frac{2 P_{X} P_{Y} f \\left(P_{Z}^{2} k_{1} + 2 k_{2} \\left(P_{X}^{2} + P_{Y}^{2}\\right)\\right)}{P_{Z}^{5}} & - \\frac{f \\left(2 P_{Y}^{2} \\left(P_{Z}^{2} k_{1} + 2 k_{2} \\left(P_{X}^{2} + P_{Y}^{2}\\right)\\right) + P_{Z}^{4} + \\left(P_{X}^{2} + P_{Y}^{2}\\right) \\left(P_{Z}^{2} k_{1} + k_{2} \\left(P_{X}^{2} + P_{Y}^{2}\\right)\\right)\\right)}{P_{Z}^{5}} & \\frac{P_{Y} f \\left(P_{Z}^{4} + \\left(P_{X}^{2} + P_{Y}^{2}\\right) \\left(P_{Z}^{2} k_{1} + k_{2} \\left(P_{X}^{2} + P_{Y}^{2}\\right)\\right) + 2 \\left(P_{X}^{2} + P_{Y}^{2}\\right) \\left(P_{Z}^{2} k_{1} + 2 k_{2} \\left(P_{X}^{2} + P_{Y}^{2}\\right)\\right)\\right)}{P_{Z}^{6}} & \\frac{f \\left(P_{Y}^{2} \\left(P_{Z}^{4} + \\left(P_{X}^{2} + P_{Y}^{2}\\right) \\left(P_{Z}^{2} k_{1} + k_{2} \\left(P_{X}^{2} + P_{Y}^{2}\\right)\\right) + 2 \\left(P_{X}^{2} + P_{Y}^{2}\\right) \\left(P_{Z}^{2} k_{1} + 2 k_{2} \\left(P_{X}^{2} + P_{Y}^{2}\\right)\\right)\\right) + P_{Z}^{2} \\left(2 P_{Y}^{2} \\left(P_{Z}^{2} k_{1} + 2 k_{2} \\left(P_{X}^{2} + P_{Y}^{2}\\right)\\right) + P_{Z}^{4} + \\left(P_{X}^{2} + P_{Y}^{2}\\right) \\left(P_{Z}^{2} k_{1} + k_{2} \\left(P_{X}^{2} + P_{Y}^{2}\\right)\\right)\\right)\\right)}{P_{Z}^{6}} & - \\frac{P_{X} P_{Y} f \\left(P_{Z}^{4} + 2 P_{Z}^{2} \\left(P_{Z}^{2} k_{1} + 2 k_{2} \\left(P_{X}^{2} + P_{Y}^{2}\\right)\\right) + \\left(P_{X}^{2} + P_{Y}^{2}\\right) \\left(P_{Z}^{2} k_{1} + k_{2} \\left(P_{X}^{2} + P_{Y}^{2}\\right)\\right) + 2 \\left(P_{X}^{2} + P_{Y}^{2}\\right) \\left(P_{Z}^{2} k_{1} + 2 k_{2} \\left(P_{X}^{2} + P_{Y}^{2}\\right)\\right)\\right)}{P_{Z}^{6}} & - \\frac{P_{X} f \\left(P_{Z}^{4} + \\left(P_{X}^{2} + P_{Y}^{2}\\right) \\left(P_{Z}^{2} k_{1} + k_{2} \\left(P_{X}^{2} + P_{Y}^{2}\\right)\\right)\\right)}{P_{Z}^{5}}\\end{matrix}\\right]$"
      ],
      "text/plain": [
       "⎡   ⎛     2 ⎛   2           ⎛   2      2⎞⎞      4   ⎛   2      2⎞ ⎛   2       \n",
       "⎢-f⋅⎝2⋅P_X ⋅⎝P_Z ⋅k₁ + 2⋅k₂⋅⎝P_X  + P_Y ⎠⎠ + P_Z  + ⎝P_X  + P_Y ⎠⋅⎝P_Z ⋅k₁ + k\n",
       "⎢─────────────────────────────────────────────────────────────────────────────\n",
       "⎢                                                 5                           \n",
       "⎢                                              P_Z                            \n",
       "⎢                                                                             \n",
       "⎢                                      ⎛   2           ⎛   2      2⎞⎞         \n",
       "⎢                         -2⋅P_X⋅P_Y⋅f⋅⎝P_Z ⋅k₁ + 2⋅k₂⋅⎝P_X  + P_Y ⎠⎠         \n",
       "⎢                         ────────────────────────────────────────────        \n",
       "⎢                                                5                            \n",
       "⎣                                             P_Z                             \n",
       "\n",
       "  ⎛   2      2⎞⎞⎞                                         ⎛   2           ⎛   \n",
       "₂⋅⎝P_X  + P_Y ⎠⎠⎠                            -2⋅P_X⋅P_Y⋅f⋅⎝P_Z ⋅k₁ + 2⋅k₂⋅⎝P_X\n",
       "──────────────────                           ─────────────────────────────────\n",
       "                                                                    5         \n",
       "                                                                 P_Z          \n",
       "                                                                              \n",
       "                       ⎛     2 ⎛   2           ⎛   2      2⎞⎞      4   ⎛   2  \n",
       "                    -f⋅⎝2⋅P_Y ⋅⎝P_Z ⋅k₁ + 2⋅k₂⋅⎝P_X  + P_Y ⎠⎠ + P_Z  + ⎝P_X  +\n",
       "                    ──────────────────────────────────────────────────────────\n",
       "                                                                     5        \n",
       "                                                                  P_Z         \n",
       "\n",
       "2      2⎞⎞                                   ⎛   4   ⎛   2      2⎞ ⎛   2      \n",
       "  + P_Y ⎠⎠                             P_X⋅f⋅⎝P_Z  + ⎝P_X  + P_Y ⎠⋅⎝P_Z ⋅k₁ + \n",
       "───────────                            ───────────────────────────────────────\n",
       "                                                                              \n",
       "                                                                              \n",
       "                                                                              \n",
       "    2⎞ ⎛   2         ⎛   2      2⎞⎞⎞         ⎛   4   ⎛   2      2⎞ ⎛   2      \n",
       " P_Y ⎠⋅⎝P_Z ⋅k₁ + k₂⋅⎝P_X  + P_Y ⎠⎠⎠   P_Y⋅f⋅⎝P_Z  + ⎝P_X  + P_Y ⎠⋅⎝P_Z ⋅k₁ + \n",
       "─────────────────────────────────────  ───────────────────────────────────────\n",
       "                                                                              \n",
       "                                                                              \n",
       "\n",
       "   ⎛   2      2⎞⎞     ⎛   2      2⎞ ⎛   2           ⎛   2      2⎞⎞⎞           \n",
       "k₂⋅⎝P_X  + P_Y ⎠⎠ + 2⋅⎝P_X  + P_Y ⎠⋅⎝P_Z ⋅k₁ + 2⋅k₂⋅⎝P_X  + P_Y ⎠⎠⎠           \n",
       "───────────────────────────────────────────────────────────────────           \n",
       "               6                                                              \n",
       "            P_Z                                                               \n",
       "                                                                              \n",
       "   ⎛   2      2⎞⎞     ⎛   2      2⎞ ⎛   2           ⎛   2      2⎞⎞⎞    ⎛   2 ⎛\n",
       "k₂⋅⎝P_X  + P_Y ⎠⎠ + 2⋅⎝P_X  + P_Y ⎠⋅⎝P_Z ⋅k₁ + 2⋅k₂⋅⎝P_X  + P_Y ⎠⎠⎠  f⋅⎝P_Y ⋅⎝\n",
       "───────────────────────────────────────────────────────────────────  ─────────\n",
       "               6                                                              \n",
       "            P_Z                                                               \n",
       "\n",
       "                              ⎛   4        2 ⎛   2           ⎛   2      2⎞⎞   \n",
       "                    P_X⋅P_Y⋅f⋅⎝P_Z  + 2⋅P_Z ⋅⎝P_Z ⋅k₁ + 2⋅k₂⋅⎝P_X  + P_Y ⎠⎠ + \n",
       "                    ──────────────────────────────────────────────────────────\n",
       "                                                                              \n",
       "                                                                              \n",
       "                                                                              \n",
       "   4   ⎛   2      2⎞ ⎛   2         ⎛   2      2⎞⎞     ⎛   2      2⎞ ⎛   2     \n",
       "P_Z  + ⎝P_X  + P_Y ⎠⋅⎝P_Z ⋅k₁ + k₂⋅⎝P_X  + P_Y ⎠⎠ + 2⋅⎝P_X  + P_Y ⎠⋅⎝P_Z ⋅k₁ +\n",
       "──────────────────────────────────────────────────────────────────────────────\n",
       "                                                                              \n",
       "                                                                              \n",
       "\n",
       "⎛   2      2⎞ ⎛   2         ⎛   2      2⎞⎞     ⎛   2      2⎞ ⎛   2           ⎛\n",
       "⎝P_X  + P_Y ⎠⋅⎝P_Z ⋅k₁ + k₂⋅⎝P_X  + P_Y ⎠⎠ + 2⋅⎝P_X  + P_Y ⎠⋅⎝P_Z ⋅k₁ + 2⋅k₂⋅⎝\n",
       "──────────────────────────────────────────────────────────────────────────────\n",
       "                  6                                                           \n",
       "               P_Z                                                            \n",
       "                                                                              \n",
       "      ⎛   2      2⎞⎞⎞      2 ⎛     2 ⎛   2           ⎛   2      2⎞⎞      4   ⎛\n",
       " 2⋅k₂⋅⎝P_X  + P_Y ⎠⎠⎠ + P_Z ⋅⎝2⋅P_Y ⋅⎝P_Z ⋅k₁ + 2⋅k₂⋅⎝P_X  + P_Y ⎠⎠ + P_Z  + ⎝\n",
       "──────────────────────────────────────────────────────────────────────────────\n",
       "                  6                                                           \n",
       "               P_Z                                                            \n",
       "\n",
       "   2      2⎞⎞⎞                                  ⎛   2 ⎛   4   ⎛   2      2⎞ ⎛ \n",
       "P_X  + P_Y ⎠⎠⎠                               -f⋅⎝P_X ⋅⎝P_Z  + ⎝P_X  + P_Y ⎠⋅⎝P\n",
       "──────────────                               ─────────────────────────────────\n",
       "                                                                              \n",
       "                                                                              \n",
       "                                                                              \n",
       "   2      2⎞ ⎛   2         ⎛   2      2⎞⎞⎞⎞                                   \n",
       "P_X  + P_Y ⎠⋅⎝P_Z ⋅k₁ + k₂⋅⎝P_X  + P_Y ⎠⎠⎠⎠                               -P_X\n",
       "───────────────────────────────────────────                               ────\n",
       "                                                                              \n",
       "                                                                              \n",
       "\n",
       "  2         ⎛   2      2⎞⎞     ⎛   2      2⎞ ⎛   2           ⎛   2      2⎞⎞⎞  \n",
       "_Z ⋅k₁ + k₂⋅⎝P_X  + P_Y ⎠⎠ + 2⋅⎝P_X  + P_Y ⎠⋅⎝P_Z ⋅k₁ + 2⋅k₂⋅⎝P_X  + P_Y ⎠⎠⎠ +\n",
       "──────────────────────────────────────────────────────────────────────────────\n",
       "                                                                         6    \n",
       "                                                                      P_Z     \n",
       "                                                                              \n",
       "       ⎛   4        2 ⎛   2           ⎛   2      2⎞⎞   ⎛   2      2⎞ ⎛   2    \n",
       "⋅P_Y⋅f⋅⎝P_Z  + 2⋅P_Z ⋅⎝P_Z ⋅k₁ + 2⋅k₂⋅⎝P_X  + P_Y ⎠⎠ + ⎝P_X  + P_Y ⎠⋅⎝P_Z ⋅k₁ \n",
       "──────────────────────────────────────────────────────────────────────────────\n",
       "                                                                         6    \n",
       "                                                                      P_Z     \n",
       "\n",
       "    2 ⎛     2 ⎛   2           ⎛   2      2⎞⎞      4   ⎛   2      2⎞ ⎛   2     \n",
       " P_Z ⋅⎝2⋅P_X ⋅⎝P_Z ⋅k₁ + 2⋅k₂⋅⎝P_X  + P_Y ⎠⎠ + P_Z  + ⎝P_X  + P_Y ⎠⋅⎝P_Z ⋅k₁ +\n",
       "──────────────────────────────────────────────────────────────────────────────\n",
       "                                                                              \n",
       "                                                                              \n",
       "                                                                              \n",
       "     ⎛   2      2⎞⎞     ⎛   2      2⎞ ⎛   2           ⎛   2      2⎞⎞⎞         \n",
       "+ k₂⋅⎝P_X  + P_Y ⎠⎠ + 2⋅⎝P_X  + P_Y ⎠⋅⎝P_Z ⋅k₁ + 2⋅k₂⋅⎝P_X  + P_Y ⎠⎠⎠         \n",
       "──────────────────────────────────────────────────────────────────────        \n",
       "                                                                              \n",
       "                                                                              \n",
       "\n",
       "    ⎛   2      2⎞⎞⎞⎞          ⎛   4   ⎛   2      2⎞ ⎛   2         ⎛   2      2\n",
       " k₂⋅⎝P_X  + P_Y ⎠⎠⎠⎠    P_Y⋅f⋅⎝P_Z  + ⎝P_X  + P_Y ⎠⋅⎝P_Z ⋅k₁ + k₂⋅⎝P_X  + P_Y \n",
       "─────────────────────   ──────────────────────────────────────────────────────\n",
       "                                                      5                       \n",
       "                                                   P_Z                        \n",
       "                                                                              \n",
       "                              ⎛   4   ⎛   2      2⎞ ⎛   2         ⎛   2      2\n",
       "                       -P_X⋅f⋅⎝P_Z  + ⎝P_X  + P_Y ⎠⋅⎝P_Z ⋅k₁ + k₂⋅⎝P_X  + P_Y \n",
       "                       ───────────────────────────────────────────────────────\n",
       "                                                      5                       \n",
       "                                                   P_Z                        \n",
       "\n",
       "⎞⎞⎞ ⎤\n",
       "⎠⎠⎠ ⎥\n",
       "─── ⎥\n",
       "    ⎥\n",
       "    ⎥\n",
       "    ⎥\n",
       "⎞⎞⎞ ⎥\n",
       "⎠⎠⎠ ⎥\n",
       "────⎥\n",
       "    ⎥\n",
       "    ⎦"
      ]
     },
     "execution_count": 16,
     "metadata": {},
     "output_type": "execute_result"
    }
   ],
   "source": [
    "# display Jacobian for landmark position:\n",
    "J_pose"
   ]
  },
  {
   "cell_type": "markdown",
   "metadata": {},
   "source": [
    "## Statements for C++ Eigen"
   ]
  },
  {
   "cell_type": "code",
   "execution_count": 17,
   "metadata": {},
   "outputs": [],
   "source": [
    "def format_jacobian_as_cpp_eigen(J, variable, col_offset):\n",
    "    \"\"\"\n",
    "    Format SymPy Jacobian as CPP Eigen expression\n",
    "    \"\"\"    \n",
    "    def format_element(J, i, j):\n",
    "        \"\"\"\n",
    "        Format Jacobian matrix element\n",
    "        \"\"\"\n",
    "        import re\n",
    "        \n",
    "        # get element representation:\n",
    "        element_expression = repr(simplify(J[i, j]))\n",
    "        # find all element exponentials:\n",
    "        element_exponentials = {e for e in re.findall(r'P_([X|Y|Z])\\*{2}(\\d)', element_expression)}\n",
    "        \n",
    "        # format all element exponentials\n",
    "        for element_exponential in element_exponentials:\n",
    "            c, e = element_exponential\n",
    "            element_expression = re.sub(f'P_{c}\\*\\*{e}', f'P_{c}_{e}', element_expression)\n",
    "        \n",
    "        return element_exponentials, f'{variable}({i}, {j+col_offset}) = {element_expression};'\n",
    "    \n",
    "    # get matrix dimension:\n",
    "    M, N = J.shape\n",
    "    \n",
    "    # init variables and assignments:\n",
    "    variables = set()\n",
    "    assignments = []\n",
    "    \n",
    "    # generate:\n",
    "    for m in range(M):\n",
    "        for n in range(N):\n",
    "            # get variables and assignment:\n",
    "            vs, a = format_element(J, m, n)\n",
    "            variables = variables.union(vs)\n",
    "            assignments.append(a)\n",
    "    \n",
    "    # format as C++ statement:\n",
    "    print(\"// this is the analytic Jacobian expression generated by SymPy\")\n",
    "    # a. declarations:\n",
    "    for c, e in sorted(variables, key=lambda x: f'{x[0]}{x[1]}'):\n",
    "        print(f'double P_{c}_{e} = pow({c}, {e});')\n",
    "    # b. Jacobian:\n",
    "    print(f'\\nEigen::Matrix<double, {M}, {N}> {variable};\\n')\n",
    "    for assignment in assignments:\n",
    "        print(assignment)\n",
    "    \n",
    "    return None"
   ]
  },
  {
   "cell_type": "code",
   "execution_count": 18,
   "metadata": {},
   "outputs": [
    {
     "name": "stdout",
     "output_type": "stream",
     "text": [
      "// this is the analytic Jacobian expression generated by SymPy\n",
      "double P_X_2 = pow(X, 2);\n",
      "double P_Y_2 = pow(Y, 2);\n",
      "double P_Z_2 = pow(Z, 2);\n",
      "double P_Z_4 = pow(Z, 4);\n",
      "double P_Z_5 = pow(Z, 5);\n",
      "double P_Z_6 = pow(Z, 6);\n",
      "\n",
      "Eigen::Matrix<double, 2, 3> JP;\n",
      "\n",
      "JP(0, 0) = -f*(2*P_X_2*(P_Z_2*k1 + 2*k2*(P_X_2 + P_Y_2)) + P_Z_4 + (P_X_2 + P_Y_2)*(P_Z_2*k1 + k2*(P_X_2 + P_Y_2)))/P_Z_5;\n",
      "JP(0, 1) = -2*P_X*P_Y*f*(P_Z_2*k1 + 2*k2*(P_X_2 + P_Y_2))/P_Z_5;\n",
      "JP(0, 2) = P_X*f*(P_Z_4 + (P_X_2 + P_Y_2)*(P_Z_2*k1 + k2*(P_X_2 + P_Y_2)) + 2*(P_X_2 + P_Y_2)*(P_Z_2*k1 + 2*k2*(P_X_2 + P_Y_2)))/P_Z_6;\n",
      "JP(1, 0) = -2*P_X*P_Y*f*(P_Z_2*k1 + 2*k2*(P_X_2 + P_Y_2))/P_Z_5;\n",
      "JP(1, 1) = -f*(2*P_Y_2*(P_Z_2*k1 + 2*k2*(P_X_2 + P_Y_2)) + P_Z_4 + (P_X_2 + P_Y_2)*(P_Z_2*k1 + k2*(P_X_2 + P_Y_2)))/P_Z_5;\n",
      "JP(1, 2) = P_Y*f*(P_Z_4 + (P_X_2 + P_Y_2)*(P_Z_2*k1 + k2*(P_X_2 + P_Y_2)) + 2*(P_X_2 + P_Y_2)*(P_Z_2*k1 + 2*k2*(P_X_2 + P_Y_2)))/P_Z_6;\n"
     ]
    }
   ],
   "source": [
    "# show jacobian for intermediate variables:\n",
    "format_jacobian_as_cpp_eigen(J_position, 'JP', 0)"
   ]
  },
  {
   "cell_type": "code",
   "execution_count": 19,
   "metadata": {},
   "outputs": [
    {
     "name": "stdout",
     "output_type": "stream",
     "text": [
      "// this is the analytic Jacobian expression generated by SymPy\n",
      "double P_X_2 = pow(X, 2);\n",
      "double P_Y_2 = pow(Y, 2);\n",
      "double P_Z_2 = pow(Z, 2);\n",
      "double P_Z_3 = pow(Z, 3);\n",
      "double P_Z_4 = pow(Z, 4);\n",
      "double P_Z_5 = pow(Z, 5);\n",
      "\n",
      "Eigen::Matrix<double, 2, 3> JI;\n",
      "\n",
      "JI(0, 0) = -P_X*(P_Z_4 + (P_X_2 + P_Y_2)*(P_Z_2*k1 + k2*(P_X_2 + P_Y_2)))/P_Z_5;\n",
      "JI(0, 1) = -P_X*f*(P_X_2 + P_Y_2)/P_Z_3;\n",
      "JI(0, 2) = -P_X*f*(P_X_2 + P_Y_2)**2/P_Z_5;\n",
      "JI(1, 0) = -P_Y*(P_Z_4 + (P_X_2 + P_Y_2)*(P_Z_2*k1 + k2*(P_X_2 + P_Y_2)))/P_Z_5;\n",
      "JI(1, 1) = -P_Y*f*(P_X_2 + P_Y_2)/P_Z_3;\n",
      "JI(1, 2) = -P_Y*f*(P_X_2 + P_Y_2)**2/P_Z_5;\n"
     ]
    }
   ],
   "source": [
    "# show jacobian for camera intrinsics:\n",
    "format_jacobian_as_cpp_eigen(J_intrinsic, 'JI', 0)"
   ]
  },
  {
   "cell_type": "code",
   "execution_count": 20,
   "metadata": {},
   "outputs": [
    {
     "name": "stdout",
     "output_type": "stream",
     "text": [
      "// this is the analytic Jacobian expression generated by SymPy\n",
      "double P_X_2 = pow(X, 2);\n",
      "double P_Y_2 = pow(Y, 2);\n",
      "double P_Z_2 = pow(Z, 2);\n",
      "double P_Z_4 = pow(Z, 4);\n",
      "double P_Z_5 = pow(Z, 5);\n",
      "double P_Z_6 = pow(Z, 6);\n",
      "\n",
      "Eigen::Matrix<double, 2, 6> _jacobianOplusXi;\n",
      "\n",
      "_jacobianOplusXi(0, 0) = -f*(2*P_X_2*(P_Z_2*k1 + 2*k2*(P_X_2 + P_Y_2)) + P_Z_4 + (P_X_2 + P_Y_2)*(P_Z_2*k1 + k2*(P_X_2 + P_Y_2)))/P_Z_5;\n",
      "_jacobianOplusXi(0, 1) = -2*P_X*P_Y*f*(P_Z_2*k1 + 2*k2*(P_X_2 + P_Y_2))/P_Z_5;\n",
      "_jacobianOplusXi(0, 2) = P_X*f*(P_Z_4 + (P_X_2 + P_Y_2)*(P_Z_2*k1 + k2*(P_X_2 + P_Y_2)) + 2*(P_X_2 + P_Y_2)*(P_Z_2*k1 + 2*k2*(P_X_2 + P_Y_2)))/P_Z_6;\n",
      "_jacobianOplusXi(0, 3) = P_X*P_Y*f*(P_Z_4 + 2*P_Z_2*(P_Z_2*k1 + 2*k2*(P_X_2 + P_Y_2)) + (P_X_2 + P_Y_2)*(P_Z_2*k1 + k2*(P_X_2 + P_Y_2)) + 2*(P_X_2 + P_Y_2)*(P_Z_2*k1 + 2*k2*(P_X_2 + P_Y_2)))/P_Z_6;\n",
      "_jacobianOplusXi(0, 4) = -f*(P_X_2*(P_Z_4 + (P_X_2 + P_Y_2)*(P_Z_2*k1 + k2*(P_X_2 + P_Y_2)) + 2*(P_X_2 + P_Y_2)*(P_Z_2*k1 + 2*k2*(P_X_2 + P_Y_2))) + P_Z_2*(2*P_X_2*(P_Z_2*k1 + 2*k2*(P_X_2 + P_Y_2)) + P_Z_4 + (P_X_2 + P_Y_2)*(P_Z_2*k1 + k2*(P_X_2 + P_Y_2))))/P_Z_6;\n",
      "_jacobianOplusXi(0, 5) = P_Y*f*(P_Z_4 + (P_X_2 + P_Y_2)*(P_Z_2*k1 + k2*(P_X_2 + P_Y_2)))/P_Z_5;\n",
      "_jacobianOplusXi(1, 0) = -2*P_X*P_Y*f*(P_Z_2*k1 + 2*k2*(P_X_2 + P_Y_2))/P_Z_5;\n",
      "_jacobianOplusXi(1, 1) = -f*(2*P_Y_2*(P_Z_2*k1 + 2*k2*(P_X_2 + P_Y_2)) + P_Z_4 + (P_X_2 + P_Y_2)*(P_Z_2*k1 + k2*(P_X_2 + P_Y_2)))/P_Z_5;\n",
      "_jacobianOplusXi(1, 2) = P_Y*f*(P_Z_4 + (P_X_2 + P_Y_2)*(P_Z_2*k1 + k2*(P_X_2 + P_Y_2)) + 2*(P_X_2 + P_Y_2)*(P_Z_2*k1 + 2*k2*(P_X_2 + P_Y_2)))/P_Z_6;\n",
      "_jacobianOplusXi(1, 3) = f*(P_Y_2*(P_Z_4 + (P_X_2 + P_Y_2)*(P_Z_2*k1 + k2*(P_X_2 + P_Y_2)) + 2*(P_X_2 + P_Y_2)*(P_Z_2*k1 + 2*k2*(P_X_2 + P_Y_2))) + P_Z_2*(2*P_Y_2*(P_Z_2*k1 + 2*k2*(P_X_2 + P_Y_2)) + P_Z_4 + (P_X_2 + P_Y_2)*(P_Z_2*k1 + k2*(P_X_2 + P_Y_2))))/P_Z_6;\n",
      "_jacobianOplusXi(1, 4) = -P_X*P_Y*f*(P_Z_4 + 2*P_Z_2*(P_Z_2*k1 + 2*k2*(P_X_2 + P_Y_2)) + (P_X_2 + P_Y_2)*(P_Z_2*k1 + k2*(P_X_2 + P_Y_2)) + 2*(P_X_2 + P_Y_2)*(P_Z_2*k1 + 2*k2*(P_X_2 + P_Y_2)))/P_Z_6;\n",
      "_jacobianOplusXi(1, 5) = -P_X*f*(P_Z_4 + (P_X_2 + P_Y_2)*(P_Z_2*k1 + k2*(P_X_2 + P_Y_2)))/P_Z_5;\n"
     ]
    }
   ],
   "source": [
    "# show jacobian for camera pose:\n",
    "format_jacobian_as_cpp_eigen(J_pose, '_jacobianOplusXi', 0)"
   ]
  }
 ],
 "metadata": {
  "kernelspec": {
   "display_name": "Python 3",
   "language": "python",
   "name": "python3"
  },
  "language_info": {
   "codemirror_mode": {
    "name": "ipython",
    "version": 3
   },
   "file_extension": ".py",
   "mimetype": "text/x-python",
   "name": "python",
   "nbconvert_exporter": "python",
   "pygments_lexer": "ipython3",
   "version": "3.8.3"
  }
 },
 "nbformat": 4,
 "nbformat_minor": 4
}
