{
 "cells": [
  {
   "cell_type": "code",
   "execution_count": 1,
   "metadata": {},
   "outputs": [],
   "source": [
    "from sympy import symbols"
   ]
  },
  {
   "cell_type": "markdown",
   "metadata": {},
   "source": [
    "## Define Input Parameters"
   ]
  },
  {
   "cell_type": "code",
   "execution_count": 2,
   "metadata": {},
   "outputs": [],
   "source": [
    "# define camera parameters:\n",
    "fx, fy, cx, cy = symbols('fx fy cx cy')"
   ]
  },
  {
   "cell_type": "code",
   "execution_count": 3,
   "metadata": {},
   "outputs": [],
   "source": [
    "# select intermediate variables as landmark position in camera frame:\n",
    "P_X, P_Y, P_Z = symbols('P_X P_Y P_Z')"
   ]
  },
  {
   "cell_type": "markdown",
   "metadata": {},
   "source": [
    "## Point-to-Pixel Projection"
   ]
  },
  {
   "cell_type": "code",
   "execution_count": 4,
   "metadata": {},
   "outputs": [],
   "source": [
    "# perspective division:\n",
    "p_x = P_X/P_Z\n",
    "p_y = P_Y/P_Z"
   ]
  },
  {
   "cell_type": "code",
   "execution_count": 5,
   "metadata": {},
   "outputs": [],
   "source": [
    "# conversion to pixel coordinates:\n",
    "p_x_prime = fx * p_x + cx\n",
    "p_y_prime = fy * p_y + cy"
   ]
  },
  {
   "cell_type": "markdown",
   "metadata": {},
   "source": [
    "## Derivative"
   ]
  },
  {
   "cell_type": "code",
   "execution_count": 6,
   "metadata": {},
   "outputs": [],
   "source": [
    "from sympy import Matrix, simplify, diff"
   ]
  },
  {
   "cell_type": "code",
   "execution_count": 7,
   "metadata": {},
   "outputs": [],
   "source": [
    "# define Jacobian with respect to intermediate variables:\n",
    "JP = Matrix(\n",
    "    [\n",
    "        [diff(p_x_prime, P_X), diff(p_x_prime, P_Y), diff(p_x_prime, P_Z)],\n",
    "        [diff(p_y_prime, P_X), diff(p_y_prime, P_Y), diff(p_y_prime, P_Z)]\n",
    "    ]\n",
    ")"
   ]
  },
  {
   "cell_type": "code",
   "execution_count": 8,
   "metadata": {},
   "outputs": [],
   "source": [
    "# jacobian with respect to camera parameters:\n",
    "JI = Matrix(\n",
    "    [\n",
    "        [diff(p_x_prime, fx), diff(p_x_prime, fy), diff(p_x_prime, cx), diff(p_x_prime, cy)],\n",
    "        [diff(p_y_prime, fx), diff(p_y_prime, fy), diff(p_y_prime, cx), diff(p_y_prime, cy)]\n",
    "    ]    \n",
    ")"
   ]
  },
  {
   "cell_type": "code",
   "execution_count": 9,
   "metadata": {},
   "outputs": [],
   "source": [
    "# Jacobian of Lie algebra:\n",
    "TP = Matrix(\n",
    "    [\n",
    "        [1, 0, 0,    0,  P_Z, -P_Y],\n",
    "        [0, 1, 0, -P_Z,    0,  P_X],\n",
    "        [0, 0, 1,  P_Y, -P_X,    0]\n",
    "    ]\n",
    ")"
   ]
  },
  {
   "cell_type": "code",
   "execution_count": 10,
   "metadata": {},
   "outputs": [],
   "source": [
    "# overall Jacobians:\n",
    "\n",
    "# a. Jacobian for landmark position:\n",
    "J_position = simplify(JP)\n",
    "# b. Jacobian for camera intrinsics:\n",
    "J_intrinsic = simplify(JI)\n",
    "# c. Jacobian for camera pose:\n",
    "J_pose = simplify(JP * TP)"
   ]
  },
  {
   "cell_type": "markdown",
   "metadata": {},
   "source": [
    "## Show Result"
   ]
  },
  {
   "cell_type": "code",
   "execution_count": 11,
   "metadata": {},
   "outputs": [],
   "source": [
    "from sympy import init_printing\n",
    "init_printing()"
   ]
  },
  {
   "cell_type": "code",
   "execution_count": 12,
   "metadata": {},
   "outputs": [
    {
     "data": {
      "text/latex": [
       "$\\displaystyle \\left[\\begin{matrix}\\frac{fx}{P_{Z}} & 0 & - \\frac{P_{X} fx}{P_{Z}^{2}}\\\\0 & \\frac{fy}{P_{Z}} & - \\frac{P_{Y} fy}{P_{Z}^{2}}\\end{matrix}\\right]$"
      ],
      "text/plain": [
       "⎡ fx       -P_X⋅fx ⎤\n",
       "⎢───   0   ────────⎥\n",
       "⎢P_Z            2  ⎥\n",
       "⎢            P_Z   ⎥\n",
       "⎢                  ⎥\n",
       "⎢      fy  -P_Y⋅fy ⎥\n",
       "⎢ 0   ───  ────────⎥\n",
       "⎢     P_Z       2  ⎥\n",
       "⎣            P_Z   ⎦"
      ]
     },
     "execution_count": 12,
     "metadata": {},
     "output_type": "execute_result"
    }
   ],
   "source": [
    "# display Jacobian for camera pose:\n",
    "J_position"
   ]
  },
  {
   "cell_type": "code",
   "execution_count": 13,
   "metadata": {},
   "outputs": [
    {
     "data": {
      "text/latex": [
       "$\\displaystyle \\left[\\begin{matrix}\\frac{P_{X}}{P_{Z}} & 0 & 1 & 0\\\\0 & \\frac{P_{Y}}{P_{Z}} & 0 & 1\\end{matrix}\\right]$"
      ],
      "text/plain": [
       "⎡P_X           ⎤\n",
       "⎢───   0   1  0⎥\n",
       "⎢P_Z           ⎥\n",
       "⎢              ⎥\n",
       "⎢     P_Y      ⎥\n",
       "⎢ 0   ───  0  1⎥\n",
       "⎣     P_Z      ⎦"
      ]
     },
     "execution_count": 13,
     "metadata": {},
     "output_type": "execute_result"
    }
   ],
   "source": [
    "# display Jacobian for camera intrinsics:\n",
    "J_intrinsic"
   ]
  },
  {
   "cell_type": "code",
   "execution_count": 14,
   "metadata": {},
   "outputs": [
    {
     "data": {
      "text/latex": [
       "$\\displaystyle \\left[\\begin{matrix}\\frac{fx}{P_{Z}} & 0 & - \\frac{P_{X} fx}{P_{Z}^{2}} & - \\frac{P_{X} P_{Y} fx}{P_{Z}^{2}} & \\frac{P_{X}^{2} fx}{P_{Z}^{2}} + fx & - \\frac{P_{Y} fx}{P_{Z}}\\\\0 & \\frac{fy}{P_{Z}} & - \\frac{P_{Y} fy}{P_{Z}^{2}} & - \\frac{P_{Y}^{2} fy}{P_{Z}^{2}} - fy & \\frac{P_{X} P_{Y} fy}{P_{Z}^{2}} & \\frac{P_{X} fy}{P_{Z}}\\end{matrix}\\right]$"
      ],
      "text/plain": [
       "⎡                                       2                  ⎤\n",
       "⎢ fx       -P_X⋅fx    -P_X⋅P_Y⋅fx    P_X ⋅fx       -P_Y⋅fx ⎥\n",
       "⎢───   0   ────────   ────────────   ─────── + fx  ────────⎥\n",
       "⎢P_Z            2            2            2          P_Z   ⎥\n",
       "⎢            P_Z          P_Z          P_Z                 ⎥\n",
       "⎢                                                          ⎥\n",
       "⎢                         2                                ⎥\n",
       "⎢      fy  -P_Y⋅fy     P_Y ⋅fy        P_X⋅P_Y⋅fy    P_X⋅fy ⎥\n",
       "⎢ 0   ───  ────────  - ─────── - fy   ──────────    ────── ⎥\n",
       "⎢     P_Z       2           2               2        P_Z   ⎥\n",
       "⎣            P_Z         P_Z             P_Z               ⎦"
      ]
     },
     "execution_count": 14,
     "metadata": {},
     "output_type": "execute_result"
    }
   ],
   "source": [
    "# display Jacobian for landmark position:\n",
    "J_pose"
   ]
  },
  {
   "cell_type": "markdown",
   "metadata": {},
   "source": [
    "## Statements for C++ Eigen"
   ]
  },
  {
   "cell_type": "code",
   "execution_count": 15,
   "metadata": {},
   "outputs": [],
   "source": [
    "def format_jacobian_as_cpp_eigen(J, variable, col_offset):\n",
    "    \"\"\"\n",
    "    Format SymPy Jacobian as CPP Eigen expression\n",
    "    \"\"\"    \n",
    "    def format_element(J, i, j):\n",
    "        \"\"\"\n",
    "        Format Jacobian matrix element\n",
    "        \"\"\"\n",
    "        import re\n",
    "        \n",
    "        # get element representation:\n",
    "        element_expression = repr(simplify(J[i, j]))\n",
    "        # find all element exponentials:\n",
    "        element_exponentials = {e for e in re.findall(r'P_([X|Y|Z])\\*{2}(\\d)', element_expression)}\n",
    "        \n",
    "        # format all element exponentials\n",
    "        for element_exponential in element_exponentials:\n",
    "            c, e = element_exponential\n",
    "            element_expression = re.sub(f'P_{c}\\*\\*{e}', f'P_{c}_{e}', element_expression)\n",
    "        \n",
    "        return element_exponentials, f'{variable}({i}, {j+col_offset}) = {element_expression};'\n",
    "    \n",
    "    # get matrix dimension:\n",
    "    M, N = J.shape\n",
    "    \n",
    "    # init variables and assignments:\n",
    "    variables = set()\n",
    "    assignments = []\n",
    "    \n",
    "    # generate:\n",
    "    for m in range(M):\n",
    "        for n in range(N):\n",
    "            # get variables and assignment:\n",
    "            vs, a = format_element(J, m, n)\n",
    "            variables = variables.union(vs)\n",
    "            assignments.append(a)\n",
    "    \n",
    "    # format as C++ statement:\n",
    "    print(\"// this is the analytic Jacobian expression generated by SymPy\")\n",
    "    # a. declarations:\n",
    "    for c, e in sorted(variables, key=lambda x: f'{x[0]}{x[1]}'):\n",
    "        print(f'double P_{c}_{e} = pow({c}, {e});')\n",
    "    # b. Jacobian:\n",
    "    print(f'\\nEigen::Matrix<double, {M}, {N}> {variable};\\n')\n",
    "    for assignment in assignments:\n",
    "        print(assignment)\n",
    "    \n",
    "    return None"
   ]
  },
  {
   "cell_type": "code",
   "execution_count": 16,
   "metadata": {},
   "outputs": [
    {
     "name": "stdout",
     "output_type": "stream",
     "text": [
      "// this is the analytic Jacobian expression generated by SymPy\n",
      "double P_Z_2 = pow(Z, 2);\n",
      "\n",
      "Eigen::Matrix<double, 2, 3> JP;\n",
      "\n",
      "JP(0, 0) = fx/P_Z;\n",
      "JP(0, 1) = 0;\n",
      "JP(0, 2) = -P_X*fx/P_Z_2;\n",
      "JP(1, 0) = 0;\n",
      "JP(1, 1) = fy/P_Z;\n",
      "JP(1, 2) = -P_Y*fy/P_Z_2;\n"
     ]
    }
   ],
   "source": [
    "# show jacobian for intermediate variables:\n",
    "format_jacobian_as_cpp_eigen(J_position, 'JP', 0)"
   ]
  },
  {
   "cell_type": "code",
   "execution_count": 17,
   "metadata": {},
   "outputs": [
    {
     "name": "stdout",
     "output_type": "stream",
     "text": [
      "// this is the analytic Jacobian expression generated by SymPy\n",
      "\n",
      "Eigen::Matrix<double, 2, 4> JI;\n",
      "\n",
      "JI(0, 0) = P_X/P_Z;\n",
      "JI(0, 1) = 0;\n",
      "JI(0, 2) = 1;\n",
      "JI(0, 3) = 0;\n",
      "JI(1, 0) = 0;\n",
      "JI(1, 1) = P_Y/P_Z;\n",
      "JI(1, 2) = 0;\n",
      "JI(1, 3) = 1;\n"
     ]
    }
   ],
   "source": [
    "# show jacobian for camera intrinsics:\n",
    "format_jacobian_as_cpp_eigen(J_intrinsic, 'JI', 0)"
   ]
  },
  {
   "cell_type": "code",
   "execution_count": 18,
   "metadata": {},
   "outputs": [
    {
     "name": "stdout",
     "output_type": "stream",
     "text": [
      "// this is the analytic Jacobian expression generated by SymPy\n",
      "double P_X_2 = pow(X, 2);\n",
      "double P_Y_2 = pow(Y, 2);\n",
      "double P_Z_2 = pow(Z, 2);\n",
      "\n",
      "Eigen::Matrix<double, 2, 6> _jacobianOplusXi;\n",
      "\n",
      "_jacobianOplusXi(0, 0) = fx/P_Z;\n",
      "_jacobianOplusXi(0, 1) = 0;\n",
      "_jacobianOplusXi(0, 2) = -P_X*fx/P_Z_2;\n",
      "_jacobianOplusXi(0, 3) = -P_X*P_Y*fx/P_Z_2;\n",
      "_jacobianOplusXi(0, 4) = P_X_2*fx/P_Z_2 + fx;\n",
      "_jacobianOplusXi(0, 5) = -P_Y*fx/P_Z;\n",
      "_jacobianOplusXi(1, 0) = 0;\n",
      "_jacobianOplusXi(1, 1) = fy/P_Z;\n",
      "_jacobianOplusXi(1, 2) = -P_Y*fy/P_Z_2;\n",
      "_jacobianOplusXi(1, 3) = -P_Y_2*fy/P_Z_2 - fy;\n",
      "_jacobianOplusXi(1, 4) = P_X*P_Y*fy/P_Z_2;\n",
      "_jacobianOplusXi(1, 5) = P_X*fy/P_Z;\n"
     ]
    }
   ],
   "source": [
    "# show jacobian for camera pose:\n",
    "format_jacobian_as_cpp_eigen(J_pose, '_jacobianOplusXi', 0)"
   ]
  }
 ],
 "metadata": {
  "kernelspec": {
   "display_name": "Python 3",
   "language": "python",
   "name": "python3"
  },
  "language_info": {
   "codemirror_mode": {
    "name": "ipython",
    "version": 3
   },
   "file_extension": ".py",
   "mimetype": "text/x-python",
   "name": "python",
   "nbconvert_exporter": "python",
   "pygments_lexer": "ipython3",
   "version": "3.8.3"
  }
 },
 "nbformat": 4,
 "nbformat_minor": 4
}
