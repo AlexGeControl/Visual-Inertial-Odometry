{
 "cells": [
  {
   "cell_type": "markdown",
   "metadata": {},
   "source": [
    "# Visual Inertial Odometry -- IMU"
   ]
  },
  {
   "cell_type": "code",
   "execution_count": 1,
   "metadata": {},
   "outputs": [],
   "source": [
    "from sympy import *"
   ]
  },
  {
   "cell_type": "markdown",
   "metadata": {},
   "source": [
    "## Define Parameters and Variables"
   ]
  },
  {
   "cell_type": "code",
   "execution_count": 2,
   "metadata": {},
   "outputs": [],
   "source": [
    "# parameters:\n",
    "r_x, r_y, r_z = symbols('r_x r_y r_z')\n",
    "w_xy, w_z = symbols('w_xy w_z')"
   ]
  },
  {
   "cell_type": "code",
   "execution_count": 3,
   "metadata": {},
   "outputs": [],
   "source": [
    "# variables:\n",
    "t = symbols('t')"
   ]
  },
  {
   "cell_type": "markdown",
   "metadata": {},
   "source": [
    "## 01 Analytic Expressions"
   ]
  },
  {
   "cell_type": "code",
   "execution_count": 4,
   "metadata": {},
   "outputs": [],
   "source": [
    "# position:\n",
    "p = Matrix(\n",
    "    [r_x*cos(w_xy*t), r_y*sin(w_xy*t), r_z*sin(w_z*t)]\n",
    ")"
   ]
  },
  {
   "cell_type": "code",
   "execution_count": 5,
   "metadata": {},
   "outputs": [],
   "source": [
    "# velocity:\n",
    "v = simplify(diff(p, t, 1))"
   ]
  },
  {
   "cell_type": "code",
   "execution_count": 6,
   "metadata": {},
   "outputs": [],
   "source": [
    "# acceleration\n",
    "a = simplify(diff(p, t, 2))"
   ]
  },
  {
   "cell_type": "code",
   "execution_count": 7,
   "metadata": {},
   "outputs": [
    {
     "data": {
      "text/latex": [
       "$\\displaystyle \\left[\\begin{matrix}- r_{x} w_{xy} \\sin{\\left(t w_{xy} \\right)}\\\\r_{y} w_{xy} \\cos{\\left(t w_{xy} \\right)}\\\\r_{z} w_{z} \\cos{\\left(t w_{z} \\right)}\\end{matrix}\\right]$"
      ],
      "text/plain": [
       "Matrix([\n",
       "[-r_x*w_xy*sin(t*w_xy)],\n",
       "[ r_y*w_xy*cos(t*w_xy)],\n",
       "[   r_z*w_z*cos(t*w_z)]])"
      ]
     },
     "execution_count": 7,
     "metadata": {},
     "output_type": "execute_result"
    }
   ],
   "source": [
    "v"
   ]
  },
  {
   "cell_type": "code",
   "execution_count": 8,
   "metadata": {},
   "outputs": [
    {
     "data": {
      "text/latex": [
       "$\\displaystyle \\left[\\begin{matrix}- r_{x} w_{xy}^{2} \\cos{\\left(t w_{xy} \\right)}\\\\- r_{y} w_{xy}^{2} \\sin{\\left(t w_{xy} \\right)}\\\\- r_{z} w_{z}^{2} \\sin{\\left(t w_{z} \\right)}\\end{matrix}\\right]$"
      ],
      "text/plain": [
       "Matrix([\n",
       "[-r_x*w_xy**2*cos(t*w_xy)],\n",
       "[-r_y*w_xy**2*sin(t*w_xy)],\n",
       "[  -r_z*w_z**2*sin(t*w_z)]])"
      ]
     },
     "execution_count": 8,
     "metadata": {},
     "output_type": "execute_result"
    }
   ],
   "source": [
    "a"
   ]
  },
  {
   "cell_type": "code",
   "execution_count": null,
   "metadata": {},
   "outputs": [],
   "source": []
  }
 ],
 "metadata": {
  "kernelspec": {
   "display_name": "Python 3",
   "language": "python",
   "name": "python3"
  },
  "language_info": {
   "codemirror_mode": {
    "name": "ipython",
    "version": 3
   },
   "file_extension": ".py",
   "mimetype": "text/x-python",
   "name": "python",
   "nbconvert_exporter": "python",
   "pygments_lexer": "ipython3",
   "version": "3.8.3"
  }
 },
 "nbformat": 4,
 "nbformat_minor": 4
}
